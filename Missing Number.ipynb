{
 "cells": [
  {
   "cell_type": "markdown",
   "id": "8e5c6259-b101-4764-b261-0429384078de",
   "metadata": {},
   "source": [
    "Find the Missing number betwween two arrays:\n",
    "arr1 = [1,2,3,4,5,6,7]\n",
    "arr2 = [1,2,3,4,6,7]\n",
    "output = 5"
   ]
  },
  {
   "cell_type": "code",
   "execution_count": 1,
   "id": "1cc40544-9752-4e28-b143-7a404694e069",
   "metadata": {},
   "outputs": [],
   "source": [
    "def finder(arr1,arr2):\n",
    "    arr1.sort()\n",
    "    arr2.sort()\n",
    "    for num1,num2 in zip(arr1,arr2):\n",
    "        if num1!=num2:\n",
    "            return num1\n",
    "    return arr1[-1]"
   ]
  },
  {
   "cell_type": "code",
   "execution_count": 2,
   "id": "cc7bcde0-3f24-4b0f-a0a4-77e4ac5e9d27",
   "metadata": {},
   "outputs": [
    {
     "data": {
      "text/plain": [
       "5"
      ]
     },
     "execution_count": 2,
     "metadata": {},
     "output_type": "execute_result"
    }
   ],
   "source": [
    "finder([1,2,3,4,5,6,7],[1,2,3,4,6,7])"
   ]
  },
  {
   "cell_type": "code",
   "execution_count": null,
   "id": "0c1237df-57a0-475e-8209-f83946000e81",
   "metadata": {},
   "outputs": [],
   "source": []
  }
 ],
 "metadata": {
  "kernelspec": {
   "display_name": "Python 3 (ipykernel)",
   "language": "python",
   "name": "python3"
  },
  "language_info": {
   "codemirror_mode": {
    "name": "ipython",
    "version": 3
   },
   "file_extension": ".py",
   "mimetype": "text/x-python",
   "name": "python",
   "nbconvert_exporter": "python",
   "pygments_lexer": "ipython3",
   "version": "3.9.12"
  }
 },
 "nbformat": 4,
 "nbformat_minor": 5
}
