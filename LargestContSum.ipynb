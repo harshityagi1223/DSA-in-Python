{
 "cells": [
  {
   "cell_type": "code",
   "execution_count": 3,
   "id": "64fa2877-5c0b-4379-bcbf-8777808566f8",
   "metadata": {},
   "outputs": [],
   "source": [
    "from typing import List\n",
    "def larg_cont_sum(nums : List[int]):\n",
    "    max_sum = curr_sum = nums[0]\n",
    "    for num in nums[1:]:\n",
    "        curr_sum = max(curr_sum+num,num)\n",
    "        max_sum = max(max_sum,curr_sum)\n",
    "    return max_sum"
   ]
  },
  {
   "cell_type": "code",
   "execution_count": 4,
   "id": "1d241be0-3e24-4224-bcef-b1750ba44c66",
   "metadata": {},
   "outputs": [
    {
     "data": {
      "text/plain": [
       "29"
      ]
     },
     "execution_count": 4,
     "metadata": {},
     "output_type": "execute_result"
    }
   ],
   "source": [
    "larg_cont_sum([1,2,-1,3,4,10,10,-10,-1])"
   ]
  },
  {
   "cell_type": "code",
   "execution_count": null,
   "id": "e7f93953-8efd-4780-869f-ecc341230e4d",
   "metadata": {},
   "outputs": [],
   "source": []
  }
 ],
 "metadata": {
  "kernelspec": {
   "display_name": "Python 3 (ipykernel)",
   "language": "python",
   "name": "python3"
  },
  "language_info": {
   "codemirror_mode": {
    "name": "ipython",
    "version": 3
   },
   "file_extension": ".py",
   "mimetype": "text/x-python",
   "name": "python",
   "nbconvert_exporter": "python",
   "pygments_lexer": "ipython3",
   "version": "3.9.12"
  }
 },
 "nbformat": 4,
 "nbformat_minor": 5
}
