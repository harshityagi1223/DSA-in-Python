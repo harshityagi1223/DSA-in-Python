{
 "cells": [
  {
   "cell_type": "code",
   "execution_count": 6,
   "id": "b6579d4f-dba2-4146-8fcc-55824f3b36f7",
   "metadata": {},
   "outputs": [],
   "source": [
    "def compress(string : str):\n",
    "    if len(string) == 0:\n",
    "        return \"\"\n",
    "    if len(string) == 1:\n",
    "        return string+str(1)\n",
    "    count = 1\n",
    "    i = 1\n",
    "    res = ''\n",
    "    while i <len(string):\n",
    "        if string[i] == string[i-1]:\n",
    "            count +=1\n",
    "        else:\n",
    "            res = res + string[i-1]+str(count)\n",
    "            count=1\n",
    "        i +=1\n",
    "    res = res + string[i-1]+str(count)\n",
    "    return res"
   ]
  },
  {
   "cell_type": "code",
   "execution_count": 7,
   "id": "7e94e013-ff2f-408c-a58c-13f4b315ca78",
   "metadata": {},
   "outputs": [
    {
     "data": {
      "text/plain": [
       "'A2B1'"
      ]
     },
     "execution_count": 7,
     "metadata": {},
     "output_type": "execute_result"
    }
   ],
   "source": [
    "compress('AAB')"
   ]
  },
  {
   "cell_type": "code",
   "execution_count": 8,
   "id": "cbd15e4d-9c36-4229-ae50-580892528e24",
   "metadata": {},
   "outputs": [
    {
     "data": {
      "text/plain": [
       "'H1h1a1h1s1h1a2'"
      ]
     },
     "execution_count": 8,
     "metadata": {},
     "output_type": "execute_result"
    }
   ],
   "source": [
    "compress('Hhahshaa')"
   ]
  },
  {
   "cell_type": "code",
   "execution_count": null,
   "id": "58757b78-f097-4021-b1e2-9cf4d659822c",
   "metadata": {},
   "outputs": [],
   "source": []
  }
 ],
 "metadata": {
  "kernelspec": {
   "display_name": "Python 3 (ipykernel)",
   "language": "python",
   "name": "python3"
  },
  "language_info": {
   "codemirror_mode": {
    "name": "ipython",
    "version": 3
   },
   "file_extension": ".py",
   "mimetype": "text/x-python",
   "name": "python",
   "nbconvert_exporter": "python",
   "pygments_lexer": "ipython3",
   "version": "3.9.12"
  }
 },
 "nbformat": 4,
 "nbformat_minor": 5
}
