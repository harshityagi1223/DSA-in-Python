{
 "cells": [
  {
   "cell_type": "code",
   "execution_count": 15,
   "id": "292b7d8a-d8b6-43aa-bd31-c77f3ea2e829",
   "metadata": {},
   "outputs": [],
   "source": [
    "def reverse_words(s):\n",
    "    words = []\n",
    "    length = len(s)\n",
    "    spaces = [' ']\n",
    "    i=0\n",
    "    while i < length:\n",
    "        if s[i] not in spaces:\n",
    "            word_start = i\n",
    "            while i < length and s[i] not in spaces:\n",
    "                i +=1\n",
    "            words.append(s[word_start:i])\n",
    "        i+=1\n",
    "    return \" \".join(reversed(words))"
   ]
  },
  {
   "cell_type": "code",
   "execution_count": 16,
   "id": "cc6649ea-fa9c-486c-b1f8-5265a4dd2153",
   "metadata": {},
   "outputs": [
    {
     "data": {
      "text/plain": [
       "'Deliah There Hi'"
      ]
     },
     "execution_count": 16,
     "metadata": {},
     "output_type": "execute_result"
    }
   ],
   "source": [
    "reverse_words('Hi There Deliah')"
   ]
  },
  {
   "cell_type": "code",
   "execution_count": null,
   "id": "281d4b3f-885c-4aca-ac4f-9976327a1610",
   "metadata": {},
   "outputs": [],
   "source": []
  }
 ],
 "metadata": {
  "kernelspec": {
   "display_name": "Python 3 (ipykernel)",
   "language": "python",
   "name": "python3"
  },
  "language_info": {
   "codemirror_mode": {
    "name": "ipython",
    "version": 3
   },
   "file_extension": ".py",
   "mimetype": "text/x-python",
   "name": "python",
   "nbconvert_exporter": "python",
   "pygments_lexer": "ipython3",
   "version": "3.9.12"
  }
 },
 "nbformat": 4,
 "nbformat_minor": 5
}
