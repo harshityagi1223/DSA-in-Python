{
 "cells": [
  {
   "cell_type": "code",
   "execution_count": 11,
   "id": "a156816a-9e0f-45de-aea3-7b15c2b3b351",
   "metadata": {},
   "outputs": [],
   "source": [
    "from typing import List\n",
    "def pair_sum(val:List[int], target : int)-> set():\n",
    "    seen = set()\n",
    "    out = set()\n",
    "    for num1 in val:\n",
    "        num2 = target - num1\n",
    "        if num2 not in seen:\n",
    "            seen.add(num1)\n",
    "        else:\n",
    "            out.add((min(num1,num2),max(num1,num2)))\n",
    "    print('\\n'.join(map(str,list(out))))"
   ]
  },
  {
   "cell_type": "code",
   "execution_count": 12,
   "id": "2d0795e5-25d2-42c7-a75e-c5b3e6e043ee",
   "metadata": {},
   "outputs": [
    {
     "name": "stdout",
     "output_type": "stream",
     "text": [
      "(1, 3)\n",
      "(2, 2)\n"
     ]
    }
   ],
   "source": [
    "pair_sum([1,3,2,2],4)"
   ]
  },
  {
   "cell_type": "code",
   "execution_count": null,
   "id": "0066c201-f845-4255-b680-6bec92cb9aab",
   "metadata": {},
   "outputs": [],
   "source": []
  }
 ],
 "metadata": {
  "kernelspec": {
   "display_name": "Python 3 (ipykernel)",
   "language": "python",
   "name": "python3"
  },
  "language_info": {
   "codemirror_mode": {
    "name": "ipython",
    "version": 3
   },
   "file_extension": ".py",
   "mimetype": "text/x-python",
   "name": "python",
   "nbconvert_exporter": "python",
   "pygments_lexer": "ipython3",
   "version": "3.9.12"
  }
 },
 "nbformat": 4,
 "nbformat_minor": 5
}
