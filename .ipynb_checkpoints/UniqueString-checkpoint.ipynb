{
 "cells": [
  {
   "cell_type": "code",
   "execution_count": 2,
   "id": "c2b73aa6-3ed1-4752-9274-d74c37531237",
   "metadata": {},
   "outputs": [],
   "source": [
    "def isUnique(s : str):\n",
    "    chars = set()\n",
    "    \n",
    "    for letter in s:\n",
    "        if letter in chars:\n",
    "            return False\n",
    "        else:\n",
    "            chars.add(letter)\n",
    "    return True"
   ]
  },
  {
   "cell_type": "code",
   "execution_count": 3,
   "id": "cab47c21-43cb-471c-a0e9-268a1df25996",
   "metadata": {},
   "outputs": [
    {
     "data": {
      "text/plain": [
       "True"
      ]
     },
     "execution_count": 3,
     "metadata": {},
     "output_type": "execute_result"
    }
   ],
   "source": [
    "isUnique('ABCD')"
   ]
  },
  {
   "cell_type": "code",
   "execution_count": 4,
   "id": "708b24fa-743f-4b8f-88e8-698ad124894b",
   "metadata": {},
   "outputs": [
    {
     "data": {
      "text/plain": [
       "False"
      ]
     },
     "execution_count": 4,
     "metadata": {},
     "output_type": "execute_result"
    }
   ],
   "source": [
    "isUnique('HARSHITA')"
   ]
  },
  {
   "cell_type": "code",
   "execution_count": null,
   "id": "7719a091-56f6-4994-9f09-465982756731",
   "metadata": {},
   "outputs": [],
   "source": []
  }
 ],
 "metadata": {
  "kernelspec": {
   "display_name": "Python 3 (ipykernel)",
   "language": "python",
   "name": "python3"
  },
  "language_info": {
   "codemirror_mode": {
    "name": "ipython",
    "version": 3
   },
   "file_extension": ".py",
   "mimetype": "text/x-python",
   "name": "python",
   "nbconvert_exporter": "python",
   "pygments_lexer": "ipython3",
   "version": "3.9.12"
  }
 },
 "nbformat": 4,
 "nbformat_minor": 5
}
