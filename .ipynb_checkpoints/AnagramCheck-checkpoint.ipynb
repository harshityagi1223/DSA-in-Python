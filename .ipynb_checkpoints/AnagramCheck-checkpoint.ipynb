{
 "cells": [
  {
   "cell_type": "markdown",
   "id": "c417e483-8491-4379-8305-73e5642e691c",
   "metadata": {},
   "source": [
    "Anagram Check :"
   ]
  },
  {
   "cell_type": "markdown",
   "id": "f8975d3c-9133-4aa9-86d5-30a39144864e",
   "metadata": {},
   "source": [
    "Two strings are called Anagrams if they have same character's with same frequency. Ex - 'GOD' and 'DOG' are anagrams."
   ]
  },
  {
   "cell_type": "code",
   "execution_count": 15,
   "id": "d73c504c-95a8-4913-8d62-6e852af9d608",
   "metadata": {},
   "outputs": [],
   "source": [
    "\n",
    "def anagrams(s1 : str, s2 : str)-> bool:\n",
    "    s1 = s1.replace(' ','').lower()\n",
    "    s2 = s2.replace(' ','').lower()\n",
    "    \n",
    "    if len(s1)!=len(s2):\n",
    "        return False\n",
    "    count = {}\n",
    "    for letter in s1:\n",
    "        if letter in count:\n",
    "            count[letter]+=1\n",
    "        else:\n",
    "            count[letter]=1\n",
    "    for letter in s2:\n",
    "        if  letter in count:\n",
    "            count[letter]-=1\n",
    "        else:\n",
    "            count[letter]=1\n",
    "    for val in count:\n",
    "        if count[val] !=0:\n",
    "            return False\n",
    "    return True"
   ]
  },
  {
   "cell_type": "code",
   "execution_count": 16,
   "id": "2b5c5c4d-ed60-4f4d-987d-e96dfe4b29b7",
   "metadata": {},
   "outputs": [
    {
     "data": {
      "text/plain": [
       "True"
      ]
     },
     "execution_count": 16,
     "metadata": {},
     "output_type": "execute_result"
    }
   ],
   "source": [
    "anagrams('dog','goD')"
   ]
  },
  {
   "cell_type": "code",
   "execution_count": 17,
   "id": "91806f07-938d-4a8d-a281-215fb8815388",
   "metadata": {},
   "outputs": [
    {
     "data": {
      "text/plain": [
       "False"
      ]
     },
     "execution_count": 17,
     "metadata": {},
     "output_type": "execute_result"
    }
   ],
   "source": [
    "anagrams('mad','damn')"
   ]
  },
  {
   "cell_type": "code",
   "execution_count": null,
   "id": "4ed7bf29-f72c-44c8-acdc-e207948014ae",
   "metadata": {},
   "outputs": [],
   "source": []
  }
 ],
 "metadata": {
  "kernelspec": {
   "display_name": "Python 3 (ipykernel)",
   "language": "python",
   "name": "python3"
  },
  "language_info": {
   "codemirror_mode": {
    "name": "ipython",
    "version": 3
   },
   "file_extension": ".py",
   "mimetype": "text/x-python",
   "name": "python",
   "nbconvert_exporter": "python",
   "pygments_lexer": "ipython3",
   "version": "3.9.12"
  }
 },
 "nbformat": 4,
 "nbformat_minor": 5
}
