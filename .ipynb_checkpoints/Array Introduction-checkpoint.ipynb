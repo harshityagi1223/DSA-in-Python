{
 "cells": [
  {
   "cell_type": "markdown",
   "id": "1390236a-b8f6-4613-ad82-5d64c8fad659",
   "metadata": {},
   "source": [
    "In Python we have three type of sequences :\n",
    "\n",
    "-> List : [1,2,3]\n",
    "\n",
    "-> Tuple : (1,2,3)\n",
    "\n",
    "-> String : '123'"
   ]
  },
  {
   "cell_type": "markdown",
   "id": "8983c043-9512-4b62-996c-1fe100a69ec3",
   "metadata": {},
   "source": [
    "All of these support indexing and are 0 indexed sequences"
   ]
  },
  {
   "cell_type": "markdown",
   "id": "19bcdeac-2f2f-4c70-83e7-e0da0f83da84",
   "metadata": {},
   "source": [
    "ARRAYS:"
   ]
  },
  {
   "cell_type": "markdown",
   "id": "5ab788ab-e55b-4b74-bc8f-b9b7a2db91d3",
   "metadata": {},
   "source": [
    "A group of related variables that can be stored one after theother in a contiguous memory of computer, is called an Array."
   ]
  },
  {
   "cell_type": "markdown",
   "id": "013a4edf-e30d-4a2e-a879-ad8ab3781cb2",
   "metadata": {},
   "source": [
    "LOW LEVEL ARRAYS:\n"
   ]
  },
  {
   "cell_type": "markdown",
   "id": "dced5711-fcb7-4022-ae4f-4101601d1df5",
   "metadata": {},
   "source": [
    "A text string is stored as an Ordered Sequence of individual character."
   ]
  },
  {
   "cell_type": "markdown",
   "id": "543ac549-d49c-4014-91ab-f986270ec29b",
   "metadata": {},
   "source": [
    "Each unicode character takes 2 bytes. Example - \"Sample\" a string of 6 characters will take 12 bytes."
   ]
  },
  {
   "cell_type": "markdown",
   "id": "1a8b2493-7fde-4e56-a57b-cd745fccb50b",
   "metadata": {},
   "source": [
    "To calculate memory address of a character : Start +(CellSize)(Index)"
   ]
  },
  {
   "cell_type": "markdown",
   "id": "4c9b1ba3-e17e-460d-bcc9-d92058ce8908",
   "metadata": {},
   "source": [
    "REFERENTIAL ARRAYS:"
   ]
  },
  {
   "cell_type": "markdown",
   "id": "53059d80-bd96-405f-9423-963edbea943f",
   "metadata": {},
   "source": [
    "If we have a array of names, it would be either difficult to store all the names of same size or the cell size willl be wasted. "
   ]
  },
  {
   "cell_type": "markdown",
   "id": "c60af208-abf1-4e8b-b0f1-b0104435b47e",
   "metadata": {},
   "source": [
    "In such cases we use referential arrays, where each element of the arrays refers to a particular object. And an object can be used as reference by more than one array."
   ]
  },
  {
   "cell_type": "code",
   "execution_count": null,
   "id": "28940188-b176-4e28-a578-f72cabff28b0",
   "metadata": {},
   "outputs": [],
   "source": []
  }
 ],
 "metadata": {
  "kernelspec": {
   "display_name": "Python 3 (ipykernel)",
   "language": "python",
   "name": "python3"
  },
  "language_info": {
   "codemirror_mode": {
    "name": "ipython",
    "version": 3
   },
   "file_extension": ".py",
   "mimetype": "text/x-python",
   "name": "python",
   "nbconvert_exporter": "python",
   "pygments_lexer": "ipython3",
   "version": "3.9.12"
  }
 },
 "nbformat": 4,
 "nbformat_minor": 5
}
